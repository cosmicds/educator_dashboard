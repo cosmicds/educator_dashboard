{
 "cells": [
  {
   "cell_type": "code",
   "execution_count": null,
   "id": "6d4c1f47",
   "metadata": {},
   "outputs": [],
   "source": [
    "import solara\n",
    "from importlib import reload\n",
    "\n",
    "import educator_dashboard.database.class_report as cr\n",
    "roster = cr.Roster(class_id = 195)\n",
    "\n",
    "\n",
    "roster = solara.reactive(roster)\n",
    "student_id = solara.reactive(None) # set to a valid id or None"
   ]
  },
  {
   "attachments": {},
   "cell_type": "markdown",
   "id": "22cb23bf",
   "metadata": {},
   "source": [
    "## Loading a particular component"
   ]
  },
  {
   "cell_type": "code",
   "execution_count": null,
   "id": "d59ef0d0",
   "metadata": {},
   "outputs": [],
   "source": [
    "import educator_dashboard.components.DataComponent as eddc"
   ]
  },
  {
   "cell_type": "code",
   "execution_count": null,
   "id": "3dc4fded",
   "metadata": {},
   "outputs": [],
   "source": [
    "reload(eddc)\n",
    "\n",
    "eddc.DataSummary(roster, student_id)"
   ]
  },
  {
   "attachments": {},
   "cell_type": "markdown",
   "id": "3e7c8d11",
   "metadata": {},
   "source": [
    "## Loading the full dashboard"
   ]
  },
  {
   "cell_type": "code",
   "execution_count": null,
   "id": "c811bbce",
   "metadata": {},
   "outputs": [],
   "source": [
    "import educator_dashboard.pages\n",
    "\n",
    "reload(pages)\n",
    "\n",
    "pages.Page()"
   ]
  },
  {
   "attachments": {},
   "cell_type": "markdown",
   "id": "150e96d9",
   "metadata": {},
   "source": [
    "## Creating your own component"
   ]
  },
  {
   "cell_type": "code",
   "execution_count": null,
   "id": "7a36a617",
   "metadata": {},
   "outputs": [],
   "source": [
    "roster = cr.Roster(class_id = 195)"
   ]
  },
  {
   "cell_type": "code",
   "execution_count": null,
   "id": "b2e15ea5",
   "metadata": {},
   "outputs": [],
   "source": [
    "@solara.component              \n",
    "def Something(roster = None):\n",
    "    \n",
    "\n",
    "    roster = solara.use_reactive(roster)\n",
    "    if roster.value is None:\n",
    "        return\n",
    "\n",
    "    student_id = solara.use_reactive(4123)\n",
    "    solara.Select(label = 'select student', values = roster.value.student_ids, value = student_id)\n",
    "    eddc.DataSummary(roster, student_id = student_id)   "
   ]
  },
  {
   "cell_type": "code",
   "execution_count": null,
   "id": "d275fd01",
   "metadata": {},
   "outputs": [],
   "source": [
    "Something(roster)"
   ]
  },
  {
   "attachments": {},
   "cell_type": "markdown",
   "id": "e04ea084",
   "metadata": {},
   "source": [
    "## Element which mimics dashboard structure but loads only component. \n",
    "Useful for testing layout"
   ]
  },
  {
   "cell_type": "code",
   "execution_count": null,
   "id": "9b1057f8",
   "metadata": {},
   "outputs": [],
   "source": [
    "import solara\n",
    "import educator_dashboard.database.class_report as cr\n",
    "import educator_dashboard.components.DataComponent as eddc\n",
    "\n",
    "roster = cr.Roster(class_id = 195)\n",
    "\n",
    "@solara.component\n",
    "def Page(roster):\n",
    "    \n",
    "    roster = solara.reactive(roster)\n",
    "    student_id = solara.reactive(4123)\n",
    "    with solara.GridFixed(columns=1, row_gap='0px', justify_items='stretch', align_items='start'):\n",
    "        with solara.Card(style=\"outline:1px solid black\"):\n",
    "            with solara.lab.Tabs(vertical=True, dark=True,):\n",
    "                with solara.lab.Tab(\"Hello\"):\n",
    "                    with solara.lab.Tabs():\n",
    "                        with solara.lab.Tab(\"sub-Hey\"):\n",
    "                            eddc.StudentDataSummary(roster, student_id, allow_sid_set = False)\n",
    "                with solara.lab.Tab(\"There\"):\n",
    "                    solara.Image(image=\"https://i.gifer.com/72uG.gif\")"
   ]
  },
  {
   "cell_type": "code",
   "execution_count": null,
   "id": "f7af233d",
   "metadata": {},
   "outputs": [],
   "source": [
    "%%capture --no-display\n",
    "# line above is a jupyter magic command to suppress print() output but not widgets\n",
    "Page(roster)"
   ]
  },
  {
   "cell_type": "code",
   "execution_count": null,
   "id": "4183b6e0",
   "metadata": {},
   "outputs": [],
   "source": []
  }
 ],
 "metadata": {
  "kernelspec": {
   "display_name": "solara",
   "language": "python",
   "name": "solara"
  },
  "language_info": {
   "codemirror_mode": {
    "name": "ipython",
    "version": 3
   },
   "file_extension": ".py",
   "mimetype": "text/x-python",
   "name": "python",
   "nbconvert_exporter": "python",
   "pygments_lexer": "ipython3",
   "version": "3.11.4"
  }
 },
 "nbformat": 4,
 "nbformat_minor": 5
}
