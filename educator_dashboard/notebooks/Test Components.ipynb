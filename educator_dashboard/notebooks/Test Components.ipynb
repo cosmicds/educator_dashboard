{
 "cells": [
  {
   "cell_type": "code",
   "execution_count": 2,
   "id": "6d4c1f47",
   "metadata": {},
   "outputs": [
    {
     "name": "stdout",
     "output_type": "stream",
     "text": [
      "Getting roster\n"
     ]
    }
   ],
   "source": [
    "import solara\n",
    "from importlib import reload\n",
    "\n",
    "import educator_dashboard.database.class_report as cr\n",
    "roster = cr.Roster(class_id = 195)\n",
    "\n",
    "\n",
    "roster = solara.reactive(roster)\n",
    "student_id = solara.reactive(0)"
   ]
  },
  {
   "cell_type": "code",
   "execution_count": 3,
   "id": "dac0854c",
   "metadata": {},
   "outputs": [],
   "source": [
    "import educator_dashboard.components.DataComponent as eddc\n"
   ]
  },
  {
   "cell_type": "code",
   "execution_count": 13,
   "id": "be367f78",
   "metadata": {},
   "outputs": [
    {
     "name": "stdout",
     "output_type": "stream",
     "text": [
      "Displaying data summary\n",
      "STUDENT 4123\n",
      "student_id\n",
      "4123     True\n",
      "4124    False\n",
      "4125    False\n",
      "4126    False\n",
      "4127     True\n",
      "4128    False\n",
      "4129     True\n",
      "4130    False\n",
      "4131    False\n",
      "4132     True\n",
      "4133    False\n",
      "4134     True\n",
      "4135     True\n",
      "4136    False\n",
      "4137    False\n",
      "4138    False\n",
      "4139     True\n",
      "4140    False\n",
      "4141     True\n",
      "4142     True\n",
      "4143     True\n",
      "4144     True\n",
      "4145     True\n",
      "Name: last_modified, dtype: bool\n",
      "Generating Class Plot\n",
      "Adding seen trace\n",
      "Adding student trace\n"
     ]
    }
   ],
   "source": [
    "student_id.set(4123)"
   ]
  },
  {
   "cell_type": "markdown",
   "id": "22cb23bf",
   "metadata": {},
   "source": [
    "## Loading a particular component"
   ]
  },
  {
   "cell_type": "code",
   "execution_count": 14,
   "id": "3dc4fded",
   "metadata": {},
   "outputs": [
    {
     "name": "stdout",
     "output_type": "stream",
     "text": [
      "Displaying data summary\n",
      "Generating Class Plot\n",
      "Adding seen trace\n",
      "Adding student trace\n"
     ]
    },
    {
     "data": {
      "application/vnd.jupyter.widget-view+json": {
       "model_id": "e9199a79f8554b9e8f6f63770b856f63",
       "version_major": 2,
       "version_minor": 0
      },
      "text/html": [
       "Cannot show widget. You probably want to rerun the code cell above (<i>Click in the code cell, and press Shift+Enter <kbd>⇧</kbd>+<kbd>↩</kbd></i>)."
      ],
      "text/plain": [
       "Cannot show ipywidgets in text"
      ]
     },
     "metadata": {},
     "output_type": "display_data"
    }
   ],
   "source": [
    "reload(eddc)\n",
    "\n",
    "eddc.DataSummary(roster, student_id)"
   ]
  },
  {
   "cell_type": "code",
   "execution_count": 15,
   "id": "41df1c5d",
   "metadata": {},
   "outputs": [],
   "source": [
    "import educator_dashboard.pages"
   ]
  },
  {
   "cell_type": "markdown",
   "id": "3e7c8d11",
   "metadata": {},
   "source": [
    "## Loading the full dashboard"
   ]
  },
  {
   "cell_type": "code",
   "execution_count": 28,
   "id": "c811bbce",
   "metadata": {},
   "outputs": [
    {
     "name": "stdout",
     "output_type": "stream",
     "text": [
      "in SetClass\n",
      "SetClass: first run\n",
      "SetClass: on_value 195\n",
      "SetClass: class id 195\n",
      "Getting roster\n",
      "Missing data for students: [4126, 4149]\n",
      "https://api.cosmicds.cfa.harvard.edu/questions/hubbles_law\n",
      "Displaying data summary\n",
      "Generating Class Plot\n",
      "Displaying single students data\n"
     ]
    },
    {
     "data": {
      "application/vnd.jupyter.widget-view+json": {
       "model_id": "82ae81c0f1904c298aedb23f27bd3fdb",
       "version_major": 2,
       "version_minor": 0
      },
      "text/html": [
       "Cannot show widget. You probably want to rerun the code cell above (<i>Click in the code cell, and press Shift+Enter <kbd>⇧</kbd>+<kbd>↩</kbd></i>)."
      ],
      "text/plain": [
       "Cannot show ipywidgets in text"
      ]
     },
     "metadata": {},
     "output_type": "display_data"
    }
   ],
   "source": [
    "reload(pages)\n",
    "\n",
    "pages.Page()"
   ]
  },
  {
   "cell_type": "markdown",
   "id": "150e96d9",
   "metadata": {},
   "source": [
    "## Creating your own component"
   ]
  },
  {
   "cell_type": "code",
   "execution_count": null,
   "id": "7a36a617",
   "metadata": {},
   "outputs": [],
   "source": [
    "roster = cr.Roster(class_id = 195)"
   ]
  },
  {
   "cell_type": "code",
   "execution_count": 31,
   "id": "b2e15ea5",
   "metadata": {},
   "outputs": [],
   "source": [
    "@solara.component              \n",
    "def Something(roster = None):\n",
    "    \n",
    "\n",
    "    roster = solara.use_reactive(roster)\n",
    "    if roster.value is None:\n",
    "        return\n",
    "\n",
    "    student_id = solara.use_reactive(4123)\n",
    "    solara.Select(label = 'select student', values = roster.value.student_ids, value = student_id)\n",
    "    eddc.DataSummary(roster, student_id = student_id)   "
   ]
  },
  {
   "cell_type": "code",
   "execution_count": 32,
   "id": "d275fd01",
   "metadata": {},
   "outputs": [
    {
     "name": "stdout",
     "output_type": "stream",
     "text": [
      "Displaying data summary\n",
      "Generating Class Plot\n",
      "Adding seen trace\n",
      "Adding student trace\n"
     ]
    },
    {
     "data": {
      "application/vnd.jupyter.widget-view+json": {
       "model_id": "d22d4a7c63c449aa93641beabc47d192",
       "version_major": 2,
       "version_minor": 0
      },
      "text/html": [
       "Cannot show widget. You probably want to rerun the code cell above (<i>Click in the code cell, and press Shift+Enter <kbd>⇧</kbd>+<kbd>↩</kbd></i>)."
      ],
      "text/plain": [
       "Cannot show ipywidgets in text"
      ]
     },
     "metadata": {},
     "output_type": "display_data"
    }
   ],
   "source": [
    "Something(roster)"
   ]
  },
  {
   "cell_type": "code",
   "execution_count": null,
   "id": "9b1057f8",
   "metadata": {},
   "outputs": [],
   "source": []
  }
 ],
 "metadata": {
  "kernelspec": {
   "display_name": "solara",
   "language": "python",
   "name": "solara"
  },
  "language_info": {
   "codemirror_mode": {
    "name": "ipython",
    "version": 3
   },
   "file_extension": ".py",
   "mimetype": "text/x-python",
   "name": "python",
   "nbconvert_exporter": "python",
   "pygments_lexer": "ipython3",
   "version": "3.11.4"
  }
 },
 "nbformat": 4,
 "nbformat_minor": 5
}
